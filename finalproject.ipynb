{
 "cells": [
  {
   "cell_type": "markdown",
   "id": "bb8d575c",
   "metadata": {},
   "source": [
    "# Data Science Tools and Ecosystem"
   ]
  },
  {
   "cell_type": "markdown",
   "id": "22f82862",
   "metadata": {},
   "source": [
    "Hey , this is data science and we are practicing the markdown cell or my final task."
   ]
  },
  {
   "cell_type": "markdown",
   "id": "69d05939",
   "metadata": {},
   "source": [
    "Some of the popular languages that Data Scientists use are:\n",
    "- Python\n",
    "    some libraries are:\n",
    "    - Numpy\n",
    "    - Panda \n",
    "    - seaborn \n",
    "    - matplotlib\n",
    "- R\n",
    "   some libraries are:\n",
    "    - ggplot\n",
    "    - dplyr\n",
    "  \n"
   ]
  },
  {
   "cell_type": "markdown",
   "id": "dacf4ba7",
   "metadata": {},
   "source": [
    "Some of the popular languages that Data Scientists use are:\n",
    "1. Python\n",
    "    some libraries are:\n",
    "    1. Numpy\n",
    "    2. Panda \n",
    "    3. seaborn \n",
    "    4. matplotlib\n",
    "2. R\n",
    "   some libraries are:\n",
    "    1. ggplot\n",
    "    2. dplyr\n",
    "  \n"
   ]
  },
  {
   "cell_type": "markdown",
   "id": "7014cfba",
   "metadata": {},
   "source": [
    "| Data Science Tools\n",
    "-------\n",
    "| Vs Code \n",
    "| R studio\n",
    "| Juypter Lab"
   ]
  },
  {
   "cell_type": "markdown",
   "id": "e18f3e2f",
   "metadata": {},
   "source": [
    "### 15 + 7 - 3 \n",
    "Result = 19"
   ]
  },
  {
   "cell_type": "code",
   "execution_count": 5,
   "id": "bb379130",
   "metadata": {},
   "outputs": [
    {
     "name": "stdout",
     "output_type": "stream",
     "text": [
      "17\n"
     ]
    }
   ],
   "source": [
    "x= (3*4)+5\n",
    "print (x)"
   ]
  },
  {
   "cell_type": "code",
   "execution_count": 8,
   "id": "53a46c4d",
   "metadata": {},
   "outputs": [
    {
     "data": {
      "text/plain": [
       "3.3333333333333335"
      ]
     },
     "execution_count": 8,
     "metadata": {},
     "output_type": "execute_result"
    }
   ],
   "source": [
    "hours = 200/60\n",
    "hours"
   ]
  },
  {
   "cell_type": "markdown",
   "id": "104144aa",
   "metadata": {},
   "source": [
    "**Objectives:**\n",
    "\n",
    "- List popular languages for Data Science\n",
    "- Understand basic Python syntax and operations\n",
    "- Perform unit conversions (e.g., minutes to hours)\n",
    "- Use Markdown to create well-structured notes\n",
    "- Run and interpret code cells in Jupyter Notebook"
   ]
  },
  {
   "cell_type": "markdown",
   "id": "7d4d58d2",
   "metadata": {},
   "source": [
    "Author \n",
    "## Jennie Daniel "
   ]
  },
  {
   "cell_type": "markdown",
   "id": "04f44f0c",
   "metadata": {},
   "source": []
  }
 ],
 "metadata": {
  "kernelspec": {
   "display_name": ".venv",
   "language": "python",
   "name": "python3"
  },
  "language_info": {
   "codemirror_mode": {
    "name": "ipython",
    "version": 3
   },
   "file_extension": ".py",
   "mimetype": "text/x-python",
   "name": "python",
   "nbconvert_exporter": "python",
   "pygments_lexer": "ipython3",
   "version": "3.12.7"
  }
 },
 "nbformat": 4,
 "nbformat_minor": 5
}
